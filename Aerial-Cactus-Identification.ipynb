{
 "cells": [
  {
   "cell_type": "markdown",
   "metadata": {},
   "source": [
    "## Aerial Cactus Identification"
   ]
  },
  {
   "cell_type": "code",
   "execution_count": 108,
   "metadata": {},
   "outputs": [
    {
     "name": "stdout",
     "output_type": "stream",
     "text": [
      "['.ipynb_checkpoints', 'sample_submission.csv', 'submission_3.csv', 'test', 'train', 'train.csv', 'Untitled-Copy1.ipynb', 'Untitled.ipynb']\n"
     ]
    }
   ],
   "source": [
    "import numpy as np # linear algebra\n",
    "import pandas as pd # data processing, CSV file I/O (e.g. pd.read_csv)\n",
    "import matplotlib.pyplot as plt\n",
    "import seaborn as sns\n",
    "\n",
    "\n",
    "import os\n",
    "print(os.listdir(r\"C:\\Users\\e870859\\Desktop\\Data Science\\7. Deep Learning Compititions\\Tutorial -18\\aerial-cactus-identification\"))"
   ]
  },
  {
   "cell_type": "code",
   "execution_count": 50,
   "metadata": {},
   "outputs": [],
   "source": [
    "train = pd.read_csv(r\"C:\\Users\\e870859\\Desktop\\Data Science\\7. Deep Learning Compititions\\Tutorial -18\\aerial-cactus-identification\\train.csv\")"
   ]
  },
  {
   "cell_type": "code",
   "execution_count": 56,
   "metadata": {},
   "outputs": [
    {
     "data": {
      "text/plain": [
       "(17500, 2)"
      ]
     },
     "execution_count": 56,
     "metadata": {},
     "output_type": "execute_result"
    }
   ],
   "source": [
    "train.id.describe()\n",
    "train.shape"
   ]
  },
  {
   "cell_type": "code",
   "execution_count": 55,
   "metadata": {},
   "outputs": [
    {
     "data": {
      "text/plain": [
       "0    1\n",
       "1    1\n",
       "2    1\n",
       "3    1\n",
       "4    1\n",
       "Name: has_cactus, dtype: int64"
      ]
     },
     "execution_count": 55,
     "metadata": {},
     "output_type": "execute_result"
    }
   ],
   "source": [
    "y_train = train[\"has_cactus\"]\n",
    "X_train = train.drop(labels = [\"has_cactus\"], axis = 1)"
   ]
  },
  {
   "cell_type": "markdown",
   "metadata": {},
   "source": [
    "## Preparing Images"
   ]
  },
  {
   "cell_type": "code",
   "execution_count": 57,
   "metadata": {},
   "outputs": [],
   "source": [
    "from keras.preprocessing import image\n",
    "from keras.applications.imagenet_utils import preprocess_input\n",
    "\n",
    "def prepareImages(train, shape, path):\n",
    "    \n",
    "    x_train = np.zeros((shape, 32, 32, 3))\n",
    "    count = 0\n",
    "    \n",
    "    for fig in train['id']:\n",
    "        \n",
    "        #load images into images of size 100x100x3\n",
    "        img = image.load_img(\"C:/Users/e870859/Desktop/Data Science/7. Deep Learning Compititions/Tutorial -18/aerial-cactus-identification/train/\"+path+\"/\"+fig, target_size=(32, 32, 3))\n",
    "        x = image.img_to_array(img)\n",
    "        x = preprocess_input(x)\n",
    "\n",
    "        x_train[count] = x\n",
    "        if (count%500 == 0):\n",
    "            print(\"Processing image: \", count+1, \", \", fig)\n",
    "        count += 1\n",
    "    \n",
    "    return x_train"
   ]
  },
  {
   "cell_type": "code",
   "execution_count": 58,
   "metadata": {},
   "outputs": [
    {
     "name": "stdout",
     "output_type": "stream",
     "text": [
      "Processing image:  1 ,  0004be2cfeaba1c0361d39e2b000257b.jpg\n",
      "Processing image:  501 ,  07527b04f4cef81471fb553253bbbe45.jpg\n",
      "Processing image:  1001 ,  0e51fcc0b1c9a27bf428979edf0ce196.jpg\n",
      "Processing image:  1501 ,  1524b107af6156c1739f46fb63fa1b2e.jpg\n",
      "Processing image:  2001 ,  1bf414beb61746b8d58b359d8197cddc.jpg\n",
      "Processing image:  2501 ,  22ffc1f777604bcec03051103ee9b6fd.jpg\n",
      "Processing image:  3001 ,  2a571bd7df9fa35dee864f6686924a36.jpg\n",
      "Processing image:  3501 ,  310ecd3074b9c78395a3fe1f184d846e.jpg\n",
      "Processing image:  4001 ,  382c565870e21cadb89d907659bb837b.jpg\n",
      "Processing image:  4501 ,  3fd99a51bb0bc9e4aa85bd03344fd96f.jpg\n",
      "Processing image:  5001 ,  47ceec37bfa02f225fa476ad5f4b76a7.jpg\n",
      "Processing image:  5501 ,  4f3e59c27d3289d28dc92fe7aec7a43e.jpg\n",
      "Processing image:  6001 ,  56819e7bfc790a641fec25b30751932f.jpg\n",
      "Processing image:  6501 ,  5dc5c2eab9b4275b88d6821a2564e659.jpg\n",
      "Processing image:  7001 ,  64b32791d9d93aeec4614f2004ba7ba1.jpg\n",
      "Processing image:  7501 ,  6bcebba887c179eca96b65033bd7281d.jpg\n",
      "Processing image:  8001 ,  72f5169a3cb95cfda72db62c5837b218.jpg\n",
      "Processing image:  8501 ,  79eb0b44ca2c72d3310927b787a13d2a.jpg\n",
      "Processing image:  9001 ,  814e1aca84e05321de0307dece38a0e3.jpg\n",
      "Processing image:  9501 ,  88bcb980e400ddb51f90f0aa4c076311.jpg\n",
      "Processing image:  10001 ,  8fd7aa281a3eeb1b8523a5c30aebd3e4.jpg\n",
      "Processing image:  10501 ,  97545d3a1933858784967bb47cf10534.jpg\n",
      "Processing image:  11001 ,  9f1459cf077600b24757b7215d8a52de.jpg\n",
      "Processing image:  11501 ,  a65328e88b86a284ded791ec0b087353.jpg\n",
      "Processing image:  12001 ,  add03249f92ef6b0f7e3dfe999600649.jpg\n",
      "Processing image:  12501 ,  b562d502ebe643a3225702fa5d959e42.jpg\n",
      "Processing image:  13001 ,  bc7585c27d7ede458c67bb49500e4d8f.jpg\n",
      "Processing image:  13501 ,  c3e5b9e8ac6b0ff2e148b80e163320ae.jpg\n",
      "Processing image:  14001 ,  cb9a3bbba55abb1c3236dad6f7108a49.jpg\n",
      "Processing image:  14501 ,  d32544d871245caa51026b3e09d6596f.jpg\n",
      "Processing image:  15001 ,  da840573130a7f52d076de00e16d3b57.jpg\n",
      "Processing image:  15501 ,  e21f0d55d33b4b7efaa582c9db0bea11.jpg\n",
      "Processing image:  16001 ,  e986174ea4752e88ac052cbf2cb1bf46.jpg\n",
      "Processing image:  16501 ,  f1409fd1da736aeee52934d1935ac13e.jpg\n",
      "Processing image:  17001 ,  f89c9e8f133642203d390e6e747d5265.jpg\n"
     ]
    }
   ],
   "source": [
    "x_train = prepareImages(train, train.shape[0], \"train\")"
   ]
  },
  {
   "cell_type": "code",
   "execution_count": 59,
   "metadata": {},
   "outputs": [
    {
     "data": {
      "text/plain": [
       "(17500, 32, 32, 3)"
      ]
     },
     "execution_count": 59,
     "metadata": {},
     "output_type": "execute_result"
    }
   ],
   "source": [
    "x_train.shape"
   ]
  },
  {
   "cell_type": "code",
   "execution_count": 60,
   "metadata": {},
   "outputs": [
    {
     "data": {
      "image/png": "[encoded data removed]",
      "text/plain": [
       "<Figure size 432x288 with 1 Axes>"
      ]
     },
     "metadata": {
      "needs_background": "light"
     },
     "output_type": "display_data"
    }
   ],
   "source": [
    "# Some examples(first one)\n",
    "plt.imshow(x_train[0][:,:,0], cmap=\"gray\")\n",
    "plt.title(plt.title(train.iloc[0,0]))\n",
    "plt.axis(\"off\")\n",
    "plt.show()"
   ]
  },
  {
   "cell_type": "code",
   "execution_count": 61,
   "metadata": {},
   "outputs": [
    {
     "data": {
      "image/png": "[encoded data removed]",
      "text/plain": [
       "<Figure size 432x288 with 1 Axes>"
      ]
     },
     "metadata": {
      "needs_background": "light"
     },
     "output_type": "display_data"
    }
   ],
   "source": [
    "# Some examples(last one)\n",
    "plt.imshow(x_train[9800][:,:,0], cmap=\"gray\")\n",
    "plt.title(plt.title(train.iloc[9800,0]))\n",
    "plt.axis(\"off\")\n",
    "plt.show()"
   ]
  },
  {
   "cell_type": "code",
   "execution_count": 62,
   "metadata": {},
   "outputs": [
    {
     "data": {
      "image/png": "[encoded data removed]",
      "text/plain": [
       "<Figure size 432x288 with 1 Axes>"
      ]
     },
     "metadata": {
      "needs_background": "light"
     },
     "output_type": "display_data"
    }
   ],
   "source": [
    "# Some examples(55th)\n",
    "plt.imshow(x_train[55][:,:,0], cmap=\"gray\")\n",
    "plt.title(plt.title(train.iloc[55,0]))\n",
    "plt.axis(\"off\")\n",
    "plt.show()"
   ]
  },
  {
   "cell_type": "markdown",
   "metadata": {},
   "source": [
    "## Array"
   ]
  },
  {
   "cell_type": "code",
   "execution_count": 63,
   "metadata": {},
   "outputs": [],
   "source": [
    "from sklearn.preprocessing import LabelEncoder\n",
    "label_encoder = LabelEncoder()"
   ]
  },
  {
   "cell_type": "code",
   "execution_count": 64,
   "metadata": {},
   "outputs": [],
   "source": [
    "y_train = label_encoder.fit_transform(y_train)"
   ]
  },
  {
   "cell_type": "code",
   "execution_count": 68,
   "metadata": {},
   "outputs": [
    {
     "name": "stdout",
     "output_type": "stream",
     "text": [
      "[1 1 1 1 1 1 0 0 1 1]\n",
      "(17500,)\n",
      "[1 0]\n"
     ]
    }
   ],
   "source": [
    "print(y_train[0:10])\n",
    "print(y_train.shape)\n",
    "print(train.has_cactus.unique())"
   ]
  },
  {
   "cell_type": "code",
   "execution_count": 69,
   "metadata": {},
   "outputs": [],
   "source": [
    "from keras.utils.np_utils import to_categorical\n",
    "y_train = to_categorical(y_train, num_classes = 2)"
   ]
  },
  {
   "cell_type": "code",
   "execution_count": 70,
   "metadata": {},
   "outputs": [
    {
     "name": "stdout",
     "output_type": "stream",
     "text": [
      "(17500, 2)\n"
     ]
    },
    {
     "data": {
      "text/plain": [
       "array([[0., 1.],\n",
       "       [0., 1.],\n",
       "       [0., 1.],\n",
       "       ...,\n",
       "       [0., 1.],\n",
       "       [1., 0.],\n",
       "       [0., 1.]], dtype=float32)"
      ]
     },
     "execution_count": 70,
     "metadata": {},
     "output_type": "execute_result"
    }
   ],
   "source": [
    "#converted\n",
    "print(y_train.shape)\n",
    "y_train #let's look at vectors"
   ]
  },
  {
   "cell_type": "markdown",
   "metadata": {},
   "source": [
    "## Modeling"
   ]
  },
  {
   "cell_type": "code",
   "execution_count": 71,
   "metadata": {},
   "outputs": [],
   "source": [
    "from sklearn.model_selection import train_test_split\n",
    "X_train, X_test, Y_train, Y_test = train_test_split(x_train, y_train, random_state=42, test_size=0.2)"
   ]
  },
  {
   "cell_type": "code",
   "execution_count": 72,
   "metadata": {},
   "outputs": [],
   "source": [
    "from keras.preprocessing import image\n",
    "from keras.models import Sequential\n",
    "from keras.layers import Dense, Dropout, Flatten\n",
    "from keras.layers import Conv2D, MaxPooling2D"
   ]
  },
  {
   "cell_type": "code",
   "execution_count": 73,
   "metadata": {},
   "outputs": [],
   "source": [
    "model = Sequential()\n",
    "model.add(Conv2D(32, kernel_size=(5, 5),activation='relu',input_shape=(32,32,3)))\n",
    "model.add(MaxPooling2D(pool_size=(2, 2)))\n",
    "model.add(Conv2D(64, (3, 3), activation='relu'))\n",
    "model.add(MaxPooling2D(pool_size=(2, 2)))\n",
    "model.add(Conv2D(64, (3, 3), activation='relu'))\n",
    "model.add(MaxPooling2D(pool_size=(2, 2)))\n",
    "model.add(Flatten())\n",
    "model.add(Dense(100, activation='relu'))\n",
    "model.add(Dropout(0.25))\n",
    "model.add(Dense(2, activation='softmax'))\n",
    "model.compile(loss='binary_crossentropy',optimizer='Adam',metrics=['accuracy'])\n",
    "\n",
    "## We can also use categorical Entropy ##"
   ]
  },
  {
   "cell_type": "code",
   "execution_count": 74,
   "metadata": {},
   "outputs": [
    {
     "name": "stdout",
     "output_type": "stream",
     "text": [
      "Epoch 1/10\n",
      "14000/14000 [==============================] - 14s 1ms/step - loss: 0.3474 - acc: 0.8956\n",
      "Epoch 2/10\n",
      "14000/14000 [==============================] - 14s 1ms/step - loss: 0.1196 - acc: 0.9542\n",
      "Epoch 3/10\n",
      "14000/14000 [==============================] - 14s 1ms/step - loss: 0.0923 - acc: 0.9676\n",
      "Epoch 4/10\n",
      "14000/14000 [==============================] - 14s 1ms/step - loss: 0.0685 - acc: 0.9743\n",
      "Epoch 5/10\n",
      "14000/14000 [==============================] - 15s 1ms/step - loss: 0.0587 - acc: 0.9792\n",
      "Epoch 6/10\n",
      "14000/14000 [==============================] - 15s 1ms/step - loss: 0.0480 - acc: 0.9841\n",
      "Epoch 7/10\n",
      "14000/14000 [==============================] - 16s 1ms/step - loss: 0.0502 - acc: 0.9833\n",
      "Epoch 8/10\n",
      "14000/14000 [==============================] - 18s 1ms/step - loss: 0.0448 - acc: 0.9859\n",
      "Epoch 9/10\n",
      "14000/14000 [==============================] - 18s 1ms/step - loss: 0.0610 - acc: 0.9851\n",
      "Epoch 10/10\n",
      "14000/14000 [==============================] - 18s 1ms/step - loss: 0.0378 - acc: 0.9877\n"
     ]
    }
   ],
   "source": [
    "history=model.fit(X_train, Y_train, epochs=10)"
   ]
  },
  {
   "cell_type": "code",
   "execution_count": 75,
   "metadata": {},
   "outputs": [
    {
     "name": "stdout",
     "output_type": "stream",
     "text": [
      "Test Accuracy:acc: 98.23%\n"
     ]
    }
   ],
   "source": [
    "scores = model.evaluate(X_test, Y_test, verbose=0)\n",
    "print(\"Test Accuracy:\"+\"%s: %.2f%%\" % (model.metrics_names[1], scores[1]*100))"
   ]
  },
  {
   "cell_type": "code",
   "execution_count": 76,
   "metadata": {},
   "outputs": [
    {
     "data": {
      "image/png": "[encoded data removed]",
      "text/plain": [
       "<Figure size 432x288 with 1 Axes>"
      ]
     },
     "metadata": {
      "needs_background": "light"
     },
     "output_type": "display_data"
    }
   ],
   "source": [
    "# Plot the loss curve for training\n",
    "plt.plot(history.history['loss'], color='r', label=\"Train Loss\")\n",
    "plt.title(\"Train Loss\")\n",
    "plt.xlabel(\"Number of Epochs\")\n",
    "plt.ylabel(\"Loss\")\n",
    "plt.legend()\n",
    "plt.show()"
   ]
  },
  {
   "cell_type": "code",
   "execution_count": 77,
   "metadata": {},
   "outputs": [
    {
     "data": {
      "image/png": "[encoded data removed]",
      "text/plain": [
       "<Figure size 432x288 with 1 Axes>"
      ]
     },
     "metadata": {
      "needs_background": "light"
     },
     "output_type": "display_data"
    }
   ],
   "source": [
    "# Plot the accuracy curve for training\n",
    "plt.plot(history.history['acc'], color='g', label=\"Train Accuracy\")\n",
    "plt.title(\"Train Accuracy\")\n",
    "plt.xlabel(\"Number of Epochs\")\n",
    "plt.ylabel(\"Accuracy\")\n",
    "plt.legend()\n",
    "plt.show()"
   ]
  },
  {
   "cell_type": "code",
   "execution_count": 78,
   "metadata": {},
   "outputs": [
    {
     "name": "stdout",
     "output_type": "stream",
     "text": [
      "Train accuracy of the model:  0.9877142857142858\n"
     ]
    }
   ],
   "source": [
    "print('Train accuracy of the model: ',history.history['acc'][-1])"
   ]
  },
  {
   "cell_type": "code",
   "execution_count": 79,
   "metadata": {},
   "outputs": [
    {
     "name": "stdout",
     "output_type": "stream",
     "text": [
      "Train loss of the model:  0.03780064923076757\n"
     ]
    }
   ],
   "source": [
    "print('Train loss of the model: ',history.history['loss'][-1])"
   ]
  },
  {
   "cell_type": "markdown",
   "metadata": {},
   "source": [
    "## Prediction"
   ]
  },
  {
   "cell_type": "code",
   "execution_count": 80,
   "metadata": {},
   "outputs": [
    {
     "name": "stdout",
     "output_type": "stream",
     "text": [
      "4000\n"
     ]
    }
   ],
   "source": [
    "test = os.listdir(r\"C:/Users/e870859/Desktop/Data Science/7. Deep Learning Compititions/Tutorial -18/aerial-cactus-identification/test/test/\")\n",
    "print(len(test))"
   ]
  },
  {
   "cell_type": "code",
   "execution_count": 81,
   "metadata": {},
   "outputs": [],
   "source": [
    "col = ['Image']\n",
    "test_data = pd.DataFrame(test, columns=col)\n",
    "test_data['has_cactus'] = ''"
   ]
  },
  {
   "cell_type": "code",
   "execution_count": 82,
   "metadata": {},
   "outputs": [],
   "source": [
    "from keras.preprocessing import image\n",
    "from keras.applications.imagenet_utils import preprocess_input\n",
    "\n",
    "def prepareImages_test(train, shape, path):\n",
    "    \n",
    "    x_train = np.zeros((shape, 32, 32, 3))\n",
    "    count = 0\n",
    "    \n",
    "    for fig in train['Image']:\n",
    "        \n",
    "        #load images into images of size 100x100x3\n",
    "        img = image.load_img(\"C:/Users/e870859/Desktop/Data Science/7. Deep Learning Compititions/Tutorial -18/aerial-cactus-identification/test/\"+path+\"/\"+fig, target_size=(32, 32, 3))\n",
    "        x = image.img_to_array(img)\n",
    "        x = preprocess_input(x)\n",
    "\n",
    "        x_train[count] = x\n",
    "        if (count%500 == 0):\n",
    "            print(\"Processing image: \", count+1, \", \", fig)\n",
    "        count += 1\n",
    "    \n",
    "    return x_train"
   ]
  },
  {
   "cell_type": "code",
   "execution_count": 83,
   "metadata": {},
   "outputs": [
    {
     "name": "stdout",
     "output_type": "stream",
     "text": [
      "Processing image:  1 ,  000940378805c44108d287872b2f04ce.jpg\n",
      "Processing image:  501 ,  2046a83b3760832a7c36a3b49dc46def.jpg\n",
      "Processing image:  1001 ,  3e93a4783dcbd7b881d872a68d180515.jpg\n",
      "Processing image:  1501 ,  5e111e9b105c5a9f2dadda88b4132a59.jpg\n",
      "Processing image:  2001 ,  7ff6f49dad5c18134b7d1654916aa3bb.jpg\n",
      "Processing image:  2501 ,  9e8e2fb740af01ffca4907bd3c0671c6.jpg\n",
      "Processing image:  3001 ,  c0d852d57a4c0e3dd92c57d43a406656.jpg\n",
      "Processing image:  3501 ,  e0cc2f1c3a2ec91df4bc03d29df9b98a.jpg\n"
     ]
    }
   ],
   "source": [
    "x_test = prepareImages_test(test_data, test_data.shape[0], \"test\")"
   ]
  },
  {
   "cell_type": "code",
   "execution_count": 84,
   "metadata": {},
   "outputs": [],
   "source": [
    "x_test /= 255"
   ]
  },
  {
   "cell_type": "code",
   "execution_count": 85,
   "metadata": {},
   "outputs": [
    {
     "name": "stdout",
     "output_type": "stream",
     "text": [
      "4000/4000 [==============================] - 1s 333us/step\n"
     ]
    }
   ],
   "source": [
    "predictions = model.predict(np.array(x_test), verbose=1)"
   ]
  },
  {
   "cell_type": "code",
   "execution_count": 99,
   "metadata": {},
   "outputs": [
    {
     "data": {
      "text/plain": [
       "array([[0.9840131 , 0.01598691],\n",
       "       [0.98331165, 0.01668834],\n",
       "       [0.98369056, 0.01630951],\n",
       "       ...,\n",
       "       [0.9839893 , 0.01601073],\n",
       "       [0.98334044, 0.0166596 ],\n",
       "       [0.9843262 , 0.01567381]], dtype=float32)"
      ]
     },
     "execution_count": 99,
     "metadata": {},
     "output_type": "execute_result"
    }
   ],
   "source": [
    "predictions"
   ]
  },
  {
   "cell_type": "code",
   "execution_count": 104,
   "metadata": {},
   "outputs": [],
   "source": [
    "test_data['has_cactus'] = predictions"
   ]
  },
  {
   "cell_type": "code",
   "execution_count": 106,
   "metadata": {},
   "outputs": [
    {
     "data": {
      "text/html": [
       "<div>\n",
       "<style scoped>\n",
       "    .dataframe tbody tr th:only-of-type {\n",
       "        vertical-align: middle;\n",
       "    }\n",
       "\n",
       "    .dataframe tbody tr th {\n",
       "        vertical-align: top;\n",
       "    }\n",
       "\n",
       "    .dataframe thead th {\n",
       "        text-align: right;\n",
       "    }\n",
       "</style>\n",
       "<table border=\"1\" class=\"dataframe\">\n",
       "  <thead>\n",
       "    <tr style=\"text-align: right;\">\n",
       "      <th></th>\n",
       "      <th>Image</th>\n",
       "      <th>has_cactus</th>\n",
       "    </tr>\n",
       "  </thead>\n",
       "  <tbody>\n",
       "    <tr>\n",
       "      <th>0</th>\n",
       "      <td>000940378805c44108d287872b2f04ce.jpg</td>\n",
       "      <td>0.984013</td>\n",
       "    </tr>\n",
       "    <tr>\n",
       "      <th>1</th>\n",
       "      <td>0017242f54ececa4512b4d7937d1e21e.jpg</td>\n",
       "      <td>0.983312</td>\n",
       "    </tr>\n",
       "    <tr>\n",
       "      <th>2</th>\n",
       "      <td>001ee6d8564003107853118ab87df407.jpg</td>\n",
       "      <td>0.983691</td>\n",
       "    </tr>\n",
       "    <tr>\n",
       "      <th>3</th>\n",
       "      <td>002e175c3c1e060769475f52182583d0.jpg</td>\n",
       "      <td>0.984804</td>\n",
       "    </tr>\n",
       "    <tr>\n",
       "      <th>4</th>\n",
       "      <td>0036e44a7e8f7218e9bc7bf8137e4943.jpg</td>\n",
       "      <td>0.983712</td>\n",
       "    </tr>\n",
       "    <tr>\n",
       "      <th>5</th>\n",
       "      <td>0038ed6f7417b8275b393307f66cb1e3.jpg</td>\n",
       "      <td>0.983828</td>\n",
       "    </tr>\n",
       "    <tr>\n",
       "      <th>6</th>\n",
       "      <td>0059dfa41de4441fc23b9a4b98ba99cb.jpg</td>\n",
       "      <td>0.983268</td>\n",
       "    </tr>\n",
       "    <tr>\n",
       "      <th>7</th>\n",
       "      <td>0061bd302d735db829418cb90b4e6040.jpg</td>\n",
       "      <td>0.983466</td>\n",
       "    </tr>\n",
       "    <tr>\n",
       "      <th>8</th>\n",
       "      <td>00754573d8c7223e73da553dd43780bd.jpg</td>\n",
       "      <td>0.983981</td>\n",
       "    </tr>\n",
       "    <tr>\n",
       "      <th>9</th>\n",
       "      <td>008d9fce71c8e03a4c9cdd15ea908573.jpg</td>\n",
       "      <td>0.984348</td>\n",
       "    </tr>\n",
       "  </tbody>\n",
       "</table>\n",
       "</div>"
      ],
      "text/plain": [
       "                                  Image  has_cactus\n",
       "0  000940378805c44108d287872b2f04ce.jpg    0.984013\n",
       "1  0017242f54ececa4512b4d7937d1e21e.jpg    0.983312\n",
       "2  001ee6d8564003107853118ab87df407.jpg    0.983691\n",
       "3  002e175c3c1e060769475f52182583d0.jpg    0.984804\n",
       "4  0036e44a7e8f7218e9bc7bf8137e4943.jpg    0.983712\n",
       "5  0038ed6f7417b8275b393307f66cb1e3.jpg    0.983828\n",
       "6  0059dfa41de4441fc23b9a4b98ba99cb.jpg    0.983268\n",
       "7  0061bd302d735db829418cb90b4e6040.jpg    0.983466\n",
       "8  00754573d8c7223e73da553dd43780bd.jpg    0.983981\n",
       "9  008d9fce71c8e03a4c9cdd15ea908573.jpg    0.984348"
      ]
     },
     "execution_count": 106,
     "metadata": {},
     "output_type": "execute_result"
    }
   ],
   "source": [
    "test_data.head(10)"
   ]
  },
  {
   "cell_type": "code",
   "execution_count": 107,
   "metadata": {},
   "outputs": [],
   "source": [
    "test_data.to_csv('submission_3.csv', index=False)"
   ]
  },
  {
   "cell_type": "code",
   "execution_count": null,
   "metadata": {},
   "outputs": [],
   "source": []
  }
 ],
 "metadata": {
  "kernelspec": {
   "display_name": "Python 3",
   "language": "python",
   "name": "python3"
  },
  "language_info": {
   "codemirror_mode": {
    "name": "ipython",
    "version": 3
   },
   "file_extension": ".py",
   "mimetype": "text/x-python",
   "name": "python",
   "nbconvert_exporter": "python",
   "pygments_lexer": "ipython3",
   "version": "3.6.10"
  }
 },
 "nbformat": 4,
 "nbformat_minor": 4
}
